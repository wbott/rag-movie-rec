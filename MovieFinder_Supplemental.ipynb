{
 "cells": [
  {
   "cell_type": "code",
   "execution_count": null,
   "id": "c7264dc7",
   "metadata": {},
   "outputs": [],
   "source": [
    "# Check 1 2. I'm on the Mike Mike. "
   ]
  }
 ],
 "metadata": {
  "language_info": {
   "name": "python"
  }
 },
 "nbformat": 4,
 "nbformat_minor": 5
}
